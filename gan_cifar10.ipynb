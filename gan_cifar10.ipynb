{
 "cells": [
  {
   "cell_type": "code",
   "execution_count": null,
   "metadata": {},
   "outputs": [
    {
     "name": "stdout",
     "output_type": "stream",
     "text": [
      "--2020-05-10 08:20:57--  https://www.cs.toronto.edu/~kriz/cifar-10-python.tar.gz\n",
      "Resolving www.cs.toronto.edu (www.cs.toronto.edu)... 128.100.3.30\n",
      "Connecting to www.cs.toronto.edu (www.cs.toronto.edu)|128.100.3.30|:443... connected.\n",
      "HTTP request sent, awaiting response... 200 OK\n",
      "Length: 170498071 (163M) [application/x-gzip]\n",
      "Saving to: 'cifar-10-python.tar.gz'\n",
      "\n",
      "cifar-10-python.tar  94%[=================>  ] 154.32M   124KB/s    eta 48s    "
     ]
    }
   ],
   "source": [
    "!wget https://www.cs.toronto.edu/~kriz/cifar-10-python.tar.gz\n",
    "!tar xvfz cifar-10-python.tar.gz"
   ]
  },
  {
   "cell_type": "code",
   "execution_count": 1,
   "metadata": {},
   "outputs": [
    {
     "name": "stderr",
     "output_type": "stream",
     "text": [
      "Using TensorFlow backend.\n"
     ]
    }
   ],
   "source": [
    "'''Main'''\n",
    "import numpy as np\n",
    "import pandas as pd\n",
    "import os, time, re\n",
    "import pickle, gzip, datetime\n",
    "\n",
    "'''Data Viz'''\n",
    "import matplotlib.pyplot as plt\n",
    "import seaborn as sns\n",
    "color = sns.color_palette()\n",
    "import matplotlib as mpl\n",
    "from mpl_toolkits.axes_grid1 import Grid\n",
    "\n",
    "%matplotlib inline\n",
    "\n",
    "'''Data Prep and Model Evaluation'''\n",
    "from sklearn import preprocessing as pp\n",
    "from sklearn.model_selection import train_test_split \n",
    "from sklearn.model_selection import StratifiedKFold \n",
    "from sklearn.metrics import log_loss, accuracy_score\n",
    "from sklearn.metrics import precision_recall_curve, average_precision_score\n",
    "from sklearn.metrics import roc_curve, auc, roc_auc_score, mean_squared_error\n",
    "from keras.utils import to_categorical\n",
    "\n",
    "'''Algos'''\n",
    "import lightgbm as lgb\n",
    "\n",
    "'''TensorFlow and Keras'''\n",
    "import tensorflow as tf\n",
    "import keras\n",
    "from keras import backend as K\n",
    "from keras.models import Sequential, Model\n",
    "from keras.layers import Activation, Dense, Dropout, Flatten, Conv2D, MaxPool2D\n",
    "from keras.layers import LeakyReLU, Reshape, UpSampling2D, Conv2DTranspose\n",
    "from keras.layers import BatchNormalization, Input, Lambda\n",
    "from keras.layers import Embedding, Flatten, dot\n",
    "from keras import regularizers\n",
    "from keras.losses import mse, binary_crossentropy\n",
    "from IPython.display import SVG\n",
    "from keras.utils.vis_utils import model_to_dot\n",
    "from keras.optimizers import Adam, RMSprop\n",
    "from tensorflow.examples.tutorials.mnist import input_data"
   ]
  },
  {
   "cell_type": "code",
   "execution_count": 2,
   "metadata": {},
   "outputs": [],
   "source": [
    "def unpickle(file):\n",
    "    import pickle\n",
    "    with open(file, 'rb') as fo:\n",
    "        dict = pickle.load(fo, encoding='bytes')\n",
    "    return dict"
   ]
  },
  {
   "cell_type": "code",
   "execution_count": 3,
   "metadata": {},
   "outputs": [
    {
     "name": "stdout",
     "output_type": "stream",
     "text": [
      "dict_keys([b'batch_label', b'labels', b'data', b'filenames'])\n",
      "dict_keys([b'batch_label', b'labels', b'data', b'filenames'])\n",
      "dict_keys([b'batch_label', b'labels', b'data', b'filenames'])\n",
      "dict_keys([b'batch_label', b'labels', b'data', b'filenames'])\n",
      "dict_keys([b'batch_label', b'labels', b'data', b'filenames'])\n"
     ]
    }
   ],
   "source": [
    "files = [\n",
    "    \"cifar-10-batches-py/data_batch_1\",\n",
    "    \"cifar-10-batches-py/data_batch_2\",\n",
    "    \"cifar-10-batches-py/data_batch_3\",\n",
    "    \"cifar-10-batches-py/data_batch_4\",\n",
    "    \"cifar-10-batches-py/data_batch_5\",\n",
    "]\n",
    "\n",
    "images = []\n",
    "grays = []\n",
    "labels = []\n",
    "for file in files:\n",
    "    datas = unpickle(file)\n",
    "    print(datas.keys())\n",
    "    for (data, label) in zip(datas[b'data'], datas[b'labels']):\n",
    "        image = []\n",
    "        gray  = []\n",
    "        r = data[0:1024]\n",
    "        g = data[1024:2048]\n",
    "        b = data[2048:3072]\n",
    "        for rgb in zip(r,g,b):\n",
    "            image.append(rgb)\n",
    "            pixel = rgb[0] * 0.3 + rgb[1] * 0.59 + rgb[2] * 0.11\n",
    "            gray.append(pixel)\n",
    "        images.append(image)\n",
    "        grays.append(gray)\n",
    "        labels.append(label)\n",
    "    \n",
    "        \n"
   ]
  },
  {
   "cell_type": "code",
   "execution_count": 4,
   "metadata": {},
   "outputs": [],
   "source": [
    "label_texts = unpickle(\"cifar-10-batches-py/batches.meta\")\n",
    "label_texts = label_texts[b'label_names']\n"
   ]
  },
  {
   "cell_type": "code",
   "execution_count": 5,
   "metadata": {},
   "outputs": [
    {
     "data": {
      "text/plain": [
       "[b'airplane',\n",
       " b'automobile',\n",
       " b'bird',\n",
       " b'cat',\n",
       " b'deer',\n",
       " b'dog',\n",
       " b'frog',\n",
       " b'horse',\n",
       " b'ship',\n",
       " b'truck']"
      ]
     },
     "execution_count": 5,
     "metadata": {},
     "output_type": "execute_result"
    }
   ],
   "source": [
    "label_texts"
   ]
  },
  {
   "cell_type": "code",
   "execution_count": 6,
   "metadata": {},
   "outputs": [],
   "source": [
    "images = np.array(images)\n",
    "grays  = np.array(grays)"
   ]
  },
  {
   "cell_type": "code",
   "execution_count": 7,
   "metadata": {},
   "outputs": [],
   "source": [
    "\n",
    "\n",
    "def view_images(images, grays, labels, index):\n",
    "    label = labels[index]\n",
    "    image = images[index].reshape([32,32,3])\n",
    "    gray  = grays[index].reshape([32,32])\n",
    "   \n",
    "    plt.title(f'Example: {index}  Label: {label_texts[label]}' )\n",
    "    plt.subplot(1,3,1)\n",
    "    plt.imshow(image)\n",
    "    plt.subplot(1,3,2)\n",
    "    plt.imshow(gray, cmap=plt.get_cmap('gray'))\n",
    "    plt.show()\n",
    "    "
   ]
  },
  {
   "cell_type": "code",
   "execution_count": 8,
   "metadata": {},
   "outputs": [
    {
     "data": {
      "image/png": "[encoded data removed]",
      "text/plain": [
       "<Figure size 432x288 with 2 Axes>"
      ]
     },
     "metadata": {
      "needs_background": "light"
     },
     "output_type": "display_data"
    },
    {
     "data": {
      "image/png": "[encoded data removed]",
      "text/plain": [
       "<Figure size 432x288 with 2 Axes>"
      ]
     },
     "metadata": {
      "needs_background": "light"
     },
     "output_type": "display_data"
    },
    {
     "data": {
      "image/png": "[encoded data removed]",
      "text/plain": [
       "<Figure size 432x288 with 2 Axes>"
      ]
     },
     "metadata": {
      "needs_background": "light"
     },
     "output_type": "display_data"
    }
   ],
   "source": [
    "\n",
    "for i in range(3):\n",
    "    view_images(images, grays, labels, i)\n"
   ]
  },
  {
   "cell_type": "code",
   "execution_count": 9,
   "metadata": {},
   "outputs": [],
   "source": [
    "import cv2\n",
    "gray_resizeds = []\n",
    "for i, gray in enumerate(grays):\n",
    "    gray_resized = cv2.resize(np.array(gray).reshape(32,32), (28,28))\n",
    "    gray_resized /= 255\n",
    "    gray_resizeds.append(gray_resized)\n",
    "    \n",
    "    "
   ]
  },
  {
   "cell_type": "code",
   "execution_count": 10,
   "metadata": {},
   "outputs": [
    {
     "data": {
      "image/png": "[encoded data removed]",
      "text/plain": [
       "<Figure size 432x288 with 1 Axes>"
      ]
     },
     "metadata": {
      "needs_background": "light"
     },
     "output_type": "display_data"
    }
   ],
   "source": [
    "plt.imshow(gray_resizeds[0], cmap=plt.get_cmap('gray'))\n",
    "plt.show()\n"
   ]
  },
  {
   "cell_type": "code",
   "execution_count": 11,
   "metadata": {},
   "outputs": [
    {
     "data": {
      "text/plain": [
       "(0.0, 1.0)"
      ]
     },
     "execution_count": 11,
     "metadata": {},
     "output_type": "execute_result"
    }
   ],
   "source": [
    "np.min(gray_resizeds), np.max(gray_resizeds)"
   ]
  },
  {
   "cell_type": "code",
   "execution_count": 12,
   "metadata": {},
   "outputs": [
    {
     "data": {
      "text/plain": [
       "(50000, 50000)"
      ]
     },
     "execution_count": 12,
     "metadata": {},
     "output_type": "execute_result"
    }
   ],
   "source": [
    "len(gray_resizeds), len(labels)"
   ]
  },
  {
   "cell_type": "code",
   "execution_count": 13,
   "metadata": {},
   "outputs": [],
   "source": [
    "X_train, y_train = np.array(gray_resizeds[0:45000]), labels[0:45000]\n",
    "X_valid, y_valid = np.array(gray_resizeds[45000:] ), labels[45000:]\n"
   ]
  },
  {
   "cell_type": "code",
   "execution_count": 14,
   "metadata": {},
   "outputs": [],
   "source": [
    "X_train_keras = X_train.reshape(45000,28,28,1)\n",
    "y_train_keras = to_categorical(y_train)\n",
    "\n",
    "X_valid_keras = X_valid.reshape(5000,28,28,1)\n",
    "y_valid_keras = to_categorical(y_valid)\n",
    "\n"
   ]
  },
  {
   "cell_type": "code",
   "execution_count": 15,
   "metadata": {},
   "outputs": [
    {
     "name": "stdout",
     "output_type": "stream",
     "text": [
      "Default GPU Device: /device:GPU:0\n"
     ]
    }
   ],
   "source": [
    "# Confirm use of GPU\n",
    "import tensorflow as tf\n",
    "if tf.test.gpu_device_name():\n",
    "    print('Default GPU Device: {}'.format(tf.test.gpu_device_name()))\n",
    "else: print(\"Please install GPU version of TF\")"
   ]
  },
  {
   "cell_type": "code",
   "execution_count": 16,
   "metadata": {},
   "outputs": [],
   "source": [
    "# DCGAN"
   ]
  },
  {
   "cell_type": "code",
   "execution_count": 17,
   "metadata": {},
   "outputs": [],
   "source": [
    "class ElapsedTimer(object):\n",
    "    def __init__(self):\n",
    "        self.start_time = time.time()\n",
    "    def elapsed(self,sec):\n",
    "        if sec < 60:\n",
    "            return str(sec) + \" sec\"\n",
    "        elif sec < (60 * 60):\n",
    "            return str(sec / 60) + \" min\"\n",
    "        else:\n",
    "            return str(sec / (60 * 60)) + \" hr\"\n",
    "    def elapsed_time(self):\n",
    "        print(\"Elapsed: %s \" % self.elapsed(time.time() - self.start_time))\n",
    "\n",
    "class DCGAN(object):\n",
    "    def __init__(self, img_rows=28, img_cols=28, channel=1):\n",
    "\n",
    "        self.img_rows = img_rows\n",
    "        self.img_cols = img_cols\n",
    "        self.channel = channel\n",
    "        self.D = None   # discriminator\n",
    "        self.G = None   # generator\n",
    "        self.AM = None  # adversarial model\n",
    "        self.DM = None  # discriminator model\n",
    "        \n",
    "    def generator(self, depth=256, dim=7, dropout=0.3, momentum=0.8, \\\n",
    "                  window=5, input_dim=100, output_depth=1):\n",
    "        if self.G:\n",
    "            return self.G\n",
    "        self.G = Sequential()\n",
    "        self.G.add(Dense(dim*dim*depth, input_dim=input_dim))\n",
    "        self.G.add(BatchNormalization(momentum=momentum))\n",
    "        self.G.add(Activation('relu'))\n",
    "        self.G.add(Reshape((dim, dim, depth)))\n",
    "        self.G.add(Dropout(dropout))\n",
    "        \n",
    "        self.G.add(UpSampling2D())\n",
    "        self.G.add(Conv2DTranspose(int(depth/2), window, padding='same'))\n",
    "        self.G.add(BatchNormalization(momentum=momentum))\n",
    "        self.G.add(Activation('relu'))\n",
    "\n",
    "        self.G.add(UpSampling2D())\n",
    "        self.G.add(Conv2DTranspose(int(depth/4), window, padding='same'))\n",
    "        self.G.add(BatchNormalization(momentum=momentum))\n",
    "        self.G.add(Activation('relu'))\n",
    "\n",
    "        self.G.add(Conv2DTranspose(int(depth/8), window, padding='same'))\n",
    "        self.G.add(BatchNormalization(momentum=momentum))\n",
    "        self.G.add(Activation('relu'))\n",
    "\n",
    "        self.G.add(Conv2DTranspose(int(depth/16), window, padding='same'))\n",
    "        self.G.add(BatchNormalization(momentum=momentum))\n",
    "        self.G.add(Activation('relu'))\n",
    "\n",
    "        self.G.add(Conv2DTranspose(output_depth, window, padding='same'))\n",
    "        self.G.add(Activation('sigmoid'))\n",
    "        self.G.summary()\n",
    "        return self.G\n",
    "\n",
    "    def discriminator(self, depth=64, dropout=0.3, alpha=0.3):\n",
    "        if self.D:\n",
    "            return self.D\n",
    "        self.D = Sequential()\n",
    "        input_shape = (self.img_rows, self.img_cols, self.channel)\n",
    "        self.D.add(Conv2D(depth*1, 5, strides=2, input_shape=input_shape,\n",
    "            padding='same'))\n",
    "        self.D.add(LeakyReLU(alpha=alpha))\n",
    "        self.D.add(Dropout(dropout))\n",
    "\n",
    "        self.D.add(Conv2D(depth*2, 5, strides=2, padding='same'))\n",
    "        self.D.add(LeakyReLU(alpha=alpha))\n",
    "        self.D.add(Dropout(dropout))\n",
    "\n",
    "        self.D.add(Conv2D(depth*4, 5, strides=2, padding='same'))\n",
    "        self.D.add(LeakyReLU(alpha=alpha))\n",
    "        self.D.add(Dropout(dropout))\n",
    "\n",
    "        self.D.add(Conv2D(depth*8, 5, strides=2, padding='same'))\n",
    "        self.D.add(LeakyReLU(alpha=alpha))\n",
    "        self.D.add(Dropout(dropout))\n",
    "\n",
    "        self.D.add(Conv2D(depth*16, 5, strides=1, padding='same'))\n",
    "        self.D.add(LeakyReLU(alpha=alpha))\n",
    "        self.D.add(Dropout(dropout))\n",
    "\n",
    "        self.D.add(Flatten())\n",
    "        self.D.add(Dense(1))\n",
    "        self.D.add(Activation('sigmoid'))\n",
    "        self.D.summary()\n",
    "        return self.D\n",
    "\n",
    "    def discriminator_model(self):\n",
    "        if self.DM:\n",
    "            return self.DM\n",
    "        optimizer = RMSprop(lr=0.0002, decay=6e-8)\n",
    "        self.DM = Sequential()\n",
    "        self.DM.add(self.discriminator())\n",
    "        self.DM.compile(loss='binary_crossentropy', \\\n",
    "                        optimizer=optimizer, metrics=['accuracy'])\n",
    "        return self.DM\n",
    "\n",
    "    def adversarial_model(self):\n",
    "        if self.AM:\n",
    "            return self.AM\n",
    "        optimizer = RMSprop(lr=0.0001, decay=3e-8)\n",
    "        self.AM = Sequential()\n",
    "        self.AM.add(self.generator())\n",
    "        self.AM.add(self.discriminator())\n",
    "        self.AM.compile(loss='binary_crossentropy', \\\n",
    "                        optimizer=optimizer, metrics=['accuracy'])\n",
    "        return self.AM\n",
    "        \n",
    "class MNIST_DCGAN(object):\n",
    "    def __init__(self, x_train):\n",
    "        self.img_rows = 28\n",
    "        self.img_cols = 28\n",
    "        self.channel = 1\n",
    "\n",
    "        self.x_train = x_train\n",
    "\n",
    "        self.DCGAN = DCGAN()\n",
    "        self.discriminator =  self.DCGAN.discriminator_model()\n",
    "        self.adversarial = self.DCGAN.adversarial_model()\n",
    "        self.generator = self.DCGAN.generator()\n",
    "\n",
    "    def train(self, train_steps=2000, batch_size=256, save_interval=0):\n",
    "        noise_input = None\n",
    "        if save_interval>0:\n",
    "            noise_input = np.random.uniform(-1.0, 1.0, size=[16, 100])\n",
    "        for i in range(train_steps):\n",
    "            images_train = self.x_train[np.random.randint(0, self.x_train.shape[0], size=batch_size), :, :, :]\n",
    "            noise = np.random.uniform(-1.0, 1.0, size=[batch_size, 100])\n",
    "            images_fake = self.generator.predict(noise)\n",
    "            x = np.concatenate((images_train, images_fake))\n",
    "            y = np.ones([2*batch_size, 1])\n",
    "            y[batch_size:, :] = 0\n",
    "            \n",
    "            d_loss = self.discriminator.train_on_batch(x, y)\n",
    "\n",
    "            y = np.ones([batch_size, 1])\n",
    "            noise = np.random.uniform(-1.0, 1.0, size=[batch_size, 100])\n",
    "            a_loss = self.adversarial.train_on_batch(noise, y)\n",
    "            log_mesg = \"%d: [D loss: %f, acc: %f]\" % (i, d_loss[0], d_loss[1])\n",
    "            log_mesg = \"%s  [A loss: %f, acc: %f]\" % (log_mesg, a_loss[0], \\\n",
    "                                                      a_loss[1])\n",
    "            print(log_mesg)\n",
    "            if save_interval>0:\n",
    "                if (i+1)%save_interval==0:\n",
    "                    self.plot_images(save2file=True, \\\n",
    "                        samples=noise_input.shape[0],\\\n",
    "                        noise=noise_input, step=(i+1))\n",
    "\n",
    "    def plot_images(self, save2file=False, fake=True, samples=16, \\\n",
    "                    noise=None, step=0):\n",
    "        current_path = os.getcwd()\n",
    "        filename = 'mnist.png'\n",
    "        if fake:\n",
    "            if noise is None:\n",
    "                noise = np.random.uniform(-1.0, 1.0, size=[samples, 100])\n",
    "            else:\n",
    "                filename = \"mnist_%d.png\" % step\n",
    "            images = self.generator.predict(noise)\n",
    "        else:\n",
    "            i = np.random.randint(0, self.x_train.shape[0], samples)\n",
    "            images = self.x_train[i, :, :, :]\n",
    "\n",
    "        plt.figure(figsize=(10,10))\n",
    "        for i in range(images.shape[0]):\n",
    "            plt.subplot(4, 4, i+1)\n",
    "            image = images[i, :, :, :]\n",
    "            image = np.reshape(image, [self.img_rows, self.img_cols])\n",
    "            plt.imshow(image, cmap='gray')\n",
    "            plt.axis('off')\n",
    "        plt.tight_layout()\n",
    "        if save2file:\n",
    "            file = os.path.join('images', filename)\n",
    "            os.makedirs(os.path.dirname(file), exist_ok=True)\n",
    "            plt.savefig(file)\n",
    "            plt.close('all')\n",
    "        else:\n",
    "            plt.show()"
   ]
  },
  {
   "cell_type": "code",
   "execution_count": 18,
   "metadata": {
    "scrolled": true
   },
   "outputs": [
    {
     "name": "stdout",
     "output_type": "stream",
     "text": [
      "WARNING:tensorflow:From /usr/local/lib/python3.6/dist-packages/tensorflow_core/python/ops/resource_variable_ops.py:1630: calling BaseResourceVariable.__init__ (from tensorflow.python.ops.resource_variable_ops) with constraint is deprecated and will be removed in a future version.\n",
      "Instructions for updating:\n",
      "If using Keras pass *_constraint arguments to layers.\n",
      "Model: \"sequential_2\"\n",
      "_________________________________________________________________\n",
      "Layer (type)                 Output Shape              Param #   \n",
      "=================================================================\n",
      "conv2d_1 (Conv2D)            (None, 14, 14, 64)        1664      \n",
      "_________________________________________________________________\n",
      "leaky_re_lu_1 (LeakyReLU)    (None, 14, 14, 64)        0         \n",
      "_________________________________________________________________\n",
      "dropout_1 (Dropout)          (None, 14, 14, 64)        0         \n",
      "_________________________________________________________________\n",
      "conv2d_2 (Conv2D)            (None, 7, 7, 128)         204928    \n",
      "_________________________________________________________________\n",
      "leaky_re_lu_2 (LeakyReLU)    (None, 7, 7, 128)         0         \n",
      "_________________________________________________________________\n",
      "dropout_2 (Dropout)          (None, 7, 7, 128)         0         \n",
      "_________________________________________________________________\n",
      "conv2d_3 (Conv2D)            (None, 4, 4, 256)         819456    \n",
      "_________________________________________________________________\n",
      "leaky_re_lu_3 (LeakyReLU)    (None, 4, 4, 256)         0         \n",
      "_________________________________________________________________\n",
      "dropout_3 (Dropout)          (None, 4, 4, 256)         0         \n",
      "_________________________________________________________________\n",
      "conv2d_4 (Conv2D)            (None, 2, 2, 512)         3277312   \n",
      "_________________________________________________________________\n",
      "leaky_re_lu_4 (LeakyReLU)    (None, 2, 2, 512)         0         \n",
      "_________________________________________________________________\n",
      "dropout_4 (Dropout)          (None, 2, 2, 512)         0         \n",
      "_________________________________________________________________\n",
      "conv2d_5 (Conv2D)            (None, 2, 2, 1024)        13108224  \n",
      "_________________________________________________________________\n",
      "leaky_re_lu_5 (LeakyReLU)    (None, 2, 2, 1024)        0         \n",
      "_________________________________________________________________\n",
      "dropout_5 (Dropout)          (None, 2, 2, 1024)        0         \n",
      "_________________________________________________________________\n",
      "flatten_1 (Flatten)          (None, 4096)              0         \n",
      "_________________________________________________________________\n",
      "dense_1 (Dense)              (None, 1)                 4097      \n",
      "_________________________________________________________________\n",
      "activation_1 (Activation)    (None, 1)                 0         \n",
      "=================================================================\n",
      "Total params: 17,415,681\n",
      "Trainable params: 17,415,681\n",
      "Non-trainable params: 0\n",
      "_________________________________________________________________\n",
      "WARNING:tensorflow:From /usr/local/lib/python3.6/dist-packages/tensorflow_core/python/ops/nn_impl.py:183: where (from tensorflow.python.ops.array_ops) is deprecated and will be removed in a future version.\n",
      "Instructions for updating:\n",
      "Use tf.where in 2.0, which has the same broadcast rule as np.where\n",
      "Model: \"sequential_4\"\n",
      "_________________________________________________________________\n",
      "Layer (type)                 Output Shape              Param #   \n",
      "=================================================================\n",
      "dense_2 (Dense)              (None, 12544)             1266944   \n",
      "_________________________________________________________________\n",
      "batch_normalization_1 (Batch (None, 12544)             50176     \n",
      "_________________________________________________________________\n",
      "activation_2 (Activation)    (None, 12544)             0         \n",
      "_________________________________________________________________\n",
      "reshape_1 (Reshape)          (None, 7, 7, 256)         0         \n",
      "_________________________________________________________________\n",
      "dropout_6 (Dropout)          (None, 7, 7, 256)         0         \n",
      "_________________________________________________________________\n",
      "up_sampling2d_1 (UpSampling2 (None, 14, 14, 256)       0         \n",
      "_________________________________________________________________\n",
      "conv2d_transpose_1 (Conv2DTr (None, 14, 14, 128)       819328    \n",
      "_________________________________________________________________\n",
      "batch_normalization_2 (Batch (None, 14, 14, 128)       512       \n",
      "_________________________________________________________________\n",
      "activation_3 (Activation)    (None, 14, 14, 128)       0         \n",
      "_________________________________________________________________\n",
      "up_sampling2d_2 (UpSampling2 (None, 28, 28, 128)       0         \n",
      "_________________________________________________________________\n",
      "conv2d_transpose_2 (Conv2DTr (None, 28, 28, 64)        204864    \n",
      "_________________________________________________________________\n",
      "batch_normalization_3 (Batch (None, 28, 28, 64)        256       \n",
      "_________________________________________________________________\n",
      "activation_4 (Activation)    (None, 28, 28, 64)        0         \n",
      "_________________________________________________________________\n",
      "conv2d_transpose_3 (Conv2DTr (None, 28, 28, 32)        51232     \n",
      "_________________________________________________________________\n",
      "batch_normalization_4 (Batch (None, 28, 28, 32)        128       \n",
      "_________________________________________________________________\n",
      "activation_5 (Activation)    (None, 28, 28, 32)        0         \n",
      "_________________________________________________________________\n",
      "conv2d_transpose_4 (Conv2DTr (None, 28, 28, 16)        12816     \n",
      "_________________________________________________________________\n",
      "batch_normalization_5 (Batch (None, 28, 28, 16)        64        \n",
      "_________________________________________________________________\n",
      "activation_6 (Activation)    (None, 28, 28, 16)        0         \n",
      "_________________________________________________________________\n",
      "conv2d_transpose_5 (Conv2DTr (None, 28, 28, 1)         401       \n",
      "_________________________________________________________________\n",
      "activation_7 (Activation)    (None, 28, 28, 1)         0         \n",
      "=================================================================\n",
      "Total params: 2,406,721\n",
      "Trainable params: 2,381,153\n",
      "Non-trainable params: 25,568\n",
      "_________________________________________________________________\n",
      "WARNING:tensorflow:From /usr/local/lib/python3.6/dist-packages/keras/backend/tensorflow_backend.py:422: The name tf.global_variables is deprecated. Please use tf.compat.v1.global_variables instead.\n",
      "\n",
      "0: [D loss: 0.692979, acc: 0.533203]  [A loss: 0.702864, acc: 0.144531]\n",
      "1: [D loss: 0.766064, acc: 0.500000]  [A loss: 0.705672, acc: 0.000000]\n",
      "2: [D loss: 0.696817, acc: 0.500000]  [A loss: 0.694261, acc: 0.281250]\n",
      "3: [D loss: 0.694529, acc: 0.500000]  [A loss: 0.688148, acc: 0.992188]\n",
      "4: [D loss: 0.694480, acc: 0.500000]  [A loss: 0.683144, acc: 1.000000]\n",
      "5: [D loss: 0.693586, acc: 0.498047]  [A loss: 0.672631, acc: 1.000000]\n",
      "6: [D loss: 0.691125, acc: 0.490234]  [A loss: 0.652831, acc: 1.000000]\n",
      "7: [D loss: 0.680373, acc: 0.648438]  [A loss: 0.561342, acc: 1.000000]\n",
      "8: [D loss: 0.644423, acc: 0.734375]  [A loss: 0.262376, acc: 1.000000]\n",
      "9: [D loss: 0.521760, acc: 0.718750]  [A loss: 0.000029, acc: 1.000000]\n",
      "10: [D loss: 4.401216, acc: 0.500000]  [A loss: 0.120669, acc: 1.000000]\n",
      "11: [D loss: 0.518410, acc: 0.677734]  [A loss: 0.024532, acc: 1.000000]\n",
      "12: [D loss: 0.560319, acc: 0.765625]  [A loss: 0.020053, acc: 1.000000]\n",
      "13: [D loss: 0.664261, acc: 0.625000]  [A loss: 0.006801, acc: 1.000000]\n",
      "14: [D loss: 0.808882, acc: 0.484375]  [A loss: 0.019969, acc: 1.000000]\n",
      "15: [D loss: 0.550517, acc: 0.673828]  [A loss: 0.007470, acc: 1.000000]\n",
      "16: [D loss: 0.573103, acc: 0.726562]  [A loss: 0.010038, acc: 1.000000]\n",
      "17: [D loss: 0.571555, acc: 0.652344]  [A loss: 0.003772, acc: 1.000000]\n",
      "18: [D loss: 0.792434, acc: 0.447266]  [A loss: 0.037644, acc: 1.000000]\n",
      "19: [D loss: 0.650641, acc: 0.609375]  [A loss: 0.002704, acc: 1.000000]\n",
      "20: [D loss: 0.874499, acc: 0.462891]  [A loss: 0.045171, acc: 1.000000]\n",
      "21: [D loss: 0.562231, acc: 0.650391]  [A loss: 0.002581, acc: 1.000000]\n",
      "22: [D loss: 0.663029, acc: 0.595703]  [A loss: 0.014914, acc: 1.000000]\n",
      "23: [D loss: 0.604356, acc: 0.632812]  [A loss: 0.003489, acc: 1.000000]\n",
      "24: [D loss: 0.837600, acc: 0.478516]  [A loss: 0.160857, acc: 1.000000]\n",
      "25: [D loss: 0.792753, acc: 0.517578]  [A loss: 0.023150, acc: 1.000000]\n",
      "26: [D loss: 0.703652, acc: 0.558594]  [A loss: 0.005615, acc: 1.000000]\n",
      "27: [D loss: 0.682108, acc: 0.582031]  [A loss: 0.036539, acc: 1.000000]\n",
      "28: [D loss: 0.573085, acc: 0.626953]  [A loss: 0.006574, acc: 1.000000]\n",
      "29: [D loss: 0.652106, acc: 0.611328]  [A loss: 0.136924, acc: 1.000000]\n",
      "30: [D loss: 1.507820, acc: 0.416016]  [A loss: 0.656046, acc: 0.621094]\n",
      "31: [D loss: 1.285448, acc: 0.107422]  [A loss: 0.328202, acc: 1.000000]\n",
      "32: [D loss: 0.676285, acc: 0.576172]  [A loss: 0.082139, acc: 1.000000]\n",
      "33: [D loss: 0.669336, acc: 0.589844]  [A loss: 0.064245, acc: 1.000000]\n",
      "34: [D loss: 0.658760, acc: 0.589844]  [A loss: 0.102189, acc: 1.000000]\n",
      "35: [D loss: 0.585211, acc: 0.724609]  [A loss: 0.041070, acc: 1.000000]\n",
      "36: [D loss: 0.561681, acc: 0.757812]  [A loss: 0.239568, acc: 0.988281]\n",
      "37: [D loss: 1.290879, acc: 0.492188]  [A loss: 1.677288, acc: 0.000000]\n",
      "38: [D loss: 0.789571, acc: 0.222656]  [A loss: 0.677959, acc: 0.640625]\n",
      "39: [D loss: 0.879545, acc: 0.480469]  [A loss: 0.679190, acc: 0.589844]\n",
      "40: [D loss: 0.782115, acc: 0.498047]  [A loss: 0.725391, acc: 0.148438]\n",
      "41: [D loss: 0.718436, acc: 0.494141]  [A loss: 0.715348, acc: 0.261719]\n",
      "42: [D loss: 0.770140, acc: 0.496094]  [A loss: 0.739730, acc: 0.046875]\n",
      "43: [D loss: 0.735032, acc: 0.464844]  [A loss: 0.715391, acc: 0.175781]\n",
      "44: [D loss: 0.716200, acc: 0.419922]  [A loss: 0.680212, acc: 0.707031]\n",
      "45: [D loss: 0.724686, acc: 0.333984]  [A loss: 0.627126, acc: 0.992188]\n",
      "46: [D loss: 0.730036, acc: 0.371094]  [A loss: 0.565335, acc: 1.000000]\n",
      "47: [D loss: 0.781219, acc: 0.412109]  [A loss: 0.525494, acc: 1.000000]\n",
      "48: [D loss: 0.955142, acc: 0.462891]  [A loss: 0.655444, acc: 0.957031]\n",
      "49: [D loss: 0.746109, acc: 0.353516]  [A loss: 0.602835, acc: 1.000000]\n",
      "50: [D loss: 0.755308, acc: 0.488281]  [A loss: 0.573870, acc: 1.000000]\n",
      "51: [D loss: 0.786361, acc: 0.500000]  [A loss: 0.601418, acc: 1.000000]\n",
      "52: [D loss: 0.735912, acc: 0.500000]  [A loss: 0.584697, acc: 1.000000]\n",
      "53: [D loss: 0.774516, acc: 0.500000]  [A loss: 0.643123, acc: 1.000000]\n",
      "54: [D loss: 0.744626, acc: 0.500000]  [A loss: 0.647798, acc: 0.984375]\n",
      "55: [D loss: 0.703212, acc: 0.500000]  [A loss: 0.569998, acc: 1.000000]\n",
      "56: [D loss: 1.282156, acc: 0.500000]  [A loss: 0.684209, acc: 0.640625]\n",
      "57: [D loss: 0.725987, acc: 0.500000]  [A loss: 0.695548, acc: 0.441406]\n",
      "58: [D loss: 0.765544, acc: 0.500000]  [A loss: 0.724706, acc: 0.007812]\n",
      "59: [D loss: 0.692142, acc: 0.500000]  [A loss: 0.713350, acc: 0.089844]\n",
      "60: [D loss: 0.682875, acc: 0.501953]  [A loss: 0.688642, acc: 0.617188]\n",
      "61: [D loss: 0.683088, acc: 0.500000]  [A loss: 0.659794, acc: 0.968750]\n",
      "62: [D loss: 0.689162, acc: 0.500000]  [A loss: 0.617375, acc: 1.000000]\n",
      "63: [D loss: 0.732053, acc: 0.500000]  [A loss: 0.628903, acc: 1.000000]\n",
      "64: [D loss: 0.700764, acc: 0.500000]  [A loss: 0.624856, acc: 1.000000]\n",
      "65: [D loss: 0.695515, acc: 0.500000]  [A loss: 0.633334, acc: 1.000000]\n",
      "66: [D loss: 0.723812, acc: 0.500000]  [A loss: 0.647674, acc: 1.000000]\n",
      "67: [D loss: 0.689870, acc: 0.500000]  [A loss: 0.672733, acc: 0.824219]\n",
      "68: [D loss: 0.666244, acc: 0.500000]  [A loss: 0.623669, acc: 1.000000]\n",
      "69: [D loss: 0.730848, acc: 0.500000]  [A loss: 0.668912, acc: 0.789062]\n",
      "70: [D loss: 0.689720, acc: 0.500000]  [A loss: 0.633482, acc: 0.992188]\n",
      "71: [D loss: 0.747155, acc: 0.500000]  [A loss: 0.647376, acc: 0.769531]\n",
      "72: [D loss: 0.823214, acc: 0.500000]  [A loss: 0.651654, acc: 0.824219]\n",
      "73: [D loss: 0.796340, acc: 0.500000]  [A loss: 0.687056, acc: 0.574219]\n",
      "74: [D loss: 0.711211, acc: 0.498047]  [A loss: 0.668635, acc: 0.808594]\n",
      "75: [D loss: 0.715616, acc: 0.496094]  [A loss: 0.644139, acc: 0.960938]\n",
      "76: [D loss: 0.723041, acc: 0.500000]  [A loss: 0.625717, acc: 0.984375]\n",
      "77: [D loss: 0.747434, acc: 0.500000]  [A loss: 0.631159, acc: 1.000000]\n",
      "78: [D loss: 0.735056, acc: 0.500000]  [A loss: 0.628271, acc: 1.000000]\n",
      "79: [D loss: 0.735226, acc: 0.500000]  [A loss: 0.623500, acc: 1.000000]\n",
      "80: [D loss: 0.739561, acc: 0.500000]  [A loss: 0.630498, acc: 1.000000]\n",
      "81: [D loss: 0.729369, acc: 0.500000]  [A loss: 0.627963, acc: 0.996094]\n",
      "82: [D loss: 0.730164, acc: 0.500000]  [A loss: 0.617650, acc: 1.000000]\n",
      "83: [D loss: 0.751568, acc: 0.500000]  [A loss: 0.645160, acc: 1.000000]\n",
      "84: [D loss: 0.717572, acc: 0.500000]  [A loss: 0.634331, acc: 1.000000]\n",
      "85: [D loss: 0.731562, acc: 0.500000]  [A loss: 0.643590, acc: 0.992188]\n",
      "86: [D loss: 0.719656, acc: 0.500000]  [A loss: 0.645704, acc: 0.996094]\n",
      "87: [D loss: 0.714396, acc: 0.500000]  [A loss: 0.634636, acc: 0.968750]\n",
      "88: [D loss: 0.735783, acc: 0.500000]  [A loss: 0.660045, acc: 0.941406]\n",
      "89: [D loss: 0.707657, acc: 0.500000]  [A loss: 0.641642, acc: 0.984375]\n",
      "90: [D loss: 0.715182, acc: 0.500000]  [A loss: 0.644220, acc: 0.875000]\n",
      "91: [D loss: 0.719177, acc: 0.500000]  [A loss: 0.663495, acc: 0.757812]\n",
      "92: [D loss: 0.721314, acc: 0.500000]  [A loss: 0.674158, acc: 0.921875]\n",
      "93: [D loss: 0.703548, acc: 0.500000]  [A loss: 0.667373, acc: 0.890625]\n",
      "94: [D loss: 0.701370, acc: 0.500000]  [A loss: 0.658966, acc: 0.769531]\n",
      "95: [D loss: 0.704698, acc: 0.500000]  [A loss: 0.663141, acc: 0.699219]\n",
      "96: [D loss: 0.723817, acc: 0.500000]  [A loss: 0.688320, acc: 0.636719]\n",
      "97: [D loss: 0.700879, acc: 0.500000]  [A loss: 0.676321, acc: 0.882812]\n",
      "98: [D loss: 0.706071, acc: 0.500000]  [A loss: 0.683820, acc: 0.675781]\n",
      "99: [D loss: 0.699781, acc: 0.500000]  [A loss: 0.668777, acc: 0.839844]\n",
      "100: [D loss: 0.709570, acc: 0.500000]  [A loss: 0.676890, acc: 0.867188]\n",
      "101: [D loss: 0.706287, acc: 0.500000]  [A loss: 0.675579, acc: 0.917969]\n",
      "102: [D loss: 0.707679, acc: 0.500000]  [A loss: 0.677670, acc: 0.914062]\n",
      "103: [D loss: 0.705436, acc: 0.500000]  [A loss: 0.680009, acc: 0.898438]\n",
      "104: [D loss: 0.701881, acc: 0.500000]  [A loss: 0.679219, acc: 0.906250]\n",
      "105: [D loss: 0.702180, acc: 0.500000]  [A loss: 0.681274, acc: 0.882812]\n",
      "106: [D loss: 0.698969, acc: 0.500000]  [A loss: 0.677648, acc: 0.937500]\n",
      "107: [D loss: 0.697127, acc: 0.500000]  [A loss: 0.676437, acc: 0.968750]\n",
      "108: [D loss: 0.696143, acc: 0.500000]  [A loss: 0.673587, acc: 0.984375]\n",
      "109: [D loss: 0.696402, acc: 0.500000]  [A loss: 0.682150, acc: 0.835938]\n",
      "110: [D loss: 0.689106, acc: 0.500000]  [A loss: 0.666599, acc: 0.929688]\n",
      "111: [D loss: 0.713402, acc: 0.500000]  [A loss: 0.711312, acc: 0.257812]\n",
      "112: [D loss: 0.698883, acc: 0.500000]  [A loss: 0.739109, acc: 0.140625]\n"
     ]
    },
    {
     "name": "stderr",
     "output_type": "stream",
     "text": [
      "ERROR:root:Internal Python error in the inspect module.\n",
      "Below is the traceback from this internal error.\n",
      "\n"
     ]
    },
    {
     "name": "stdout",
     "output_type": "stream",
     "text": [
      "Traceback (most recent call last):\n",
      "  File \"/usr/local/lib/python3.6/dist-packages/IPython/core/interactiveshell.py\", line 3326, in run_code\n",
      "    exec(code_obj, self.user_global_ns, self.user_ns)\n",
      "  File \"<ipython-input-18-345c752fbc85>\", line 4, in <module>\n",
      "    mnist_dcgan.train(train_steps=200000, batch_size=256, save_interval=5)\n",
      "  File \"<ipython-input-17-50eafaed5534>\", line 141, in train\n",
      "    a_loss = self.adversarial.train_on_batch(noise, y)\n",
      "  File \"/usr/local/lib/python3.6/dist-packages/keras/engine/training.py\", line 1514, in train_on_batch\n",
      "    outputs = self.train_function(ins)\n",
      "  File \"/usr/local/lib/python3.6/dist-packages/tensorflow_core/python/keras/backend.py\", line 3476, in __call__\n",
      "    run_metadata=self.run_metadata)\n",
      "  File \"/usr/local/lib/python3.6/dist-packages/tensorflow_core/python/client/session.py\", line 1472, in __call__\n",
      "    run_metadata_ptr)\n",
      "KeyboardInterrupt\n",
      "\n",
      "During handling of the above exception, another exception occurred:\n",
      "\n",
      "Traceback (most recent call last):\n",
      "  File \"/usr/local/lib/python3.6/dist-packages/IPython/core/interactiveshell.py\", line 2040, in showtraceback\n",
      "    stb = value._render_traceback_()\n",
      "AttributeError: 'KeyboardInterrupt' object has no attribute '_render_traceback_'\n",
      "\n",
      "During handling of the above exception, another exception occurred:\n",
      "\n",
      "Traceback (most recent call last):\n",
      "  File \"/usr/local/lib/python3.6/dist-packages/IPython/core/ultratb.py\", line 1101, in get_records\n",
      "    return _fixed_getinnerframes(etb, number_of_lines_of_context, tb_offset)\n",
      "  File \"/usr/local/lib/python3.6/dist-packages/IPython/core/ultratb.py\", line 319, in wrapped\n",
      "    return f(*args, **kwargs)\n",
      "  File \"/usr/local/lib/python3.6/dist-packages/IPython/core/ultratb.py\", line 353, in _fixed_getinnerframes\n",
      "    records = fix_frame_records_filenames(inspect.getinnerframes(etb, context))\n",
      "  File \"/usr/lib/python3.6/inspect.py\", line 1490, in getinnerframes\n",
      "    frameinfo = (tb.tb_frame,) + getframeinfo(tb, context)\n",
      "  File \"/usr/lib/python3.6/inspect.py\", line 1448, in getframeinfo\n",
      "    filename = getsourcefile(frame) or getfile(frame)\n",
      "  File \"/usr/lib/python3.6/inspect.py\", line 696, in getsourcefile\n",
      "    if getattr(getmodule(object, filename), '__loader__', None) is not None:\n",
      "  File \"/usr/lib/python3.6/inspect.py\", line 742, in getmodule\n",
      "    os.path.realpath(f)] = module.__name__\n",
      "  File \"/usr/lib/python3.6/posixpath.py\", line 395, in realpath\n",
      "    path, ok = _joinrealpath(filename[:0], filename, {})\n",
      "  File \"/usr/lib/python3.6/posixpath.py\", line 429, in _joinrealpath\n",
      "    if not islink(newpath):\n",
      "  File \"/usr/lib/python3.6/posixpath.py\", line 171, in islink\n",
      "    st = os.lstat(path)\n",
      "KeyboardInterrupt\n"
     ]
    },
    {
     "ename": "KeyboardInterrupt",
     "evalue": "",
     "output_type": "error",
     "traceback": [
      "\u001b[0;31m---------------------------------------------------------------------------\u001b[0m"
     ]
    }
   ],
   "source": [
    "# Initialize MNIST DCGAN and train\n",
    "mnist_dcgan = MNIST_DCGAN(X_train_keras)\n",
    "timer = ElapsedTimer()\n",
    "mnist_dcgan.train(train_steps=200000, batch_size=256, save_interval=500)"
   ]
  },
  {
   "cell_type": "code",
   "execution_count": null,
   "metadata": {
    "scrolled": true
   },
   "outputs": [],
   "source": [
    "# Generate batch of synthetic MNIST images\n",
    "timer.elapsed_time()\n",
    "mnist_dcgan.plot_images(fake=True)\n",
    "mnist_dcgan.plot_images(fake=False, save2file=True)"
   ]
  },
  {
   "cell_type": "code",
   "execution_count": null,
   "metadata": {},
   "outputs": [],
   "source": []
  }
 ],
 "metadata": {
  "kernelspec": {
   "display_name": "Python 3",
   "language": "python",
   "name": "python3"
  },
  "language_info": {
   "codemirror_mode": {
    "name": "ipython",
    "version": 3
   },
   "file_extension": ".py",
   "mimetype": "text/x-python",
   "name": "python",
   "nbconvert_exporter": "python",
   "pygments_lexer": "ipython3",
   "version": "3.6.8"
  }
 },
 "nbformat": 4,
 "nbformat_minor": 4
}
